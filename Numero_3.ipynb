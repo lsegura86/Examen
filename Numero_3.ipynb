{
 "cells": [
  {
   "cell_type": "code",
   "execution_count": 3,
   "metadata": {
    "collapsed": true
   },
   "outputs": [],
   "source": [
    "import pandas as pd"
   ]
  },
  {
   "cell_type": "code",
   "execution_count": 25,
   "metadata": {},
   "outputs": [],
   "source": [
    "# Creando el DataFrame\n",
    "tups = [(-2, 1), (0, 0.5), (1, 3.5)]\n",
    "columnas = ['X', 'Y']\n",
    "data = pd.DataFrame([x for x in tups], columns=columnas)"
   ]
  },
  {
   "cell_type": "code",
   "execution_count": 30,
   "metadata": {},
   "outputs": [
    {
     "name": "stdout",
     "output_type": "stream",
     "text": [
      "   X    Y  X2   XY\n0 -2  1.0   4 -2.0\n1  0  0.5   0  0.0\n2  1  3.5   1  3.5\n"
     ]
    }
   ],
   "source": [
    "print(data)"
   ]
  },
  {
   "cell_type": "code",
   "execution_count": 29,
   "metadata": {},
   "outputs": [],
   "source": [
    "# Calculando X2\n",
    "data['X2'] = data['X'] * data['X']\n",
    "data['XY'] = data['X'] * data['Y']\n",
    "n = len(data.index)"
   ]
  },
  {
   "cell_type": "code",
   "execution_count": 63,
   "metadata": {
    "collapsed": false
   },
   "outputs": [
    {
     "name": "stdout",
     "output_type": "stream",
     "text": [
      "El valor de M para los pares es:  1.4285714285714286\n"
     ]
    }
   ],
   "source": [
    "# Calculando el valor de M\n",
    "m_dividiendo = data['X2'].sum() * data['Y'].sum() - data['X'].sum() * (data['X'].sum() * data['Y'].sum())\n",
    "m_divisor = n * data['X2'].sum() - (data['X'].sum() * data['X'].sum())\n",
    "#print(m_dividiendo)\n",
    "#print(m_divisor)\n",
    "m = m_dividiendo / m_divisor\n",
    "print('El valor de M para los pares es: ', m)"
   ]
  },
  {
   "cell_type": "code",
   "execution_count": 66,
   "metadata": {},
   "outputs": [
    {
     "name": "stdout",
     "output_type": "stream",
     "text": [
      "El valor de B para los pares es  0.6785714285714286\n"
     ]
    }
   ],
   "source": [
    "# Calculando el valor de B\n",
    "b_dividiendo = n * data['XY'].sum() - data['X'].sum() * data['Y'].sum()\n",
    "b_divisor = n * data['X2'].sum() - (data['X'].sum() * data['X'].sum())\n",
    "#print(b_dividiendo)\n",
    "#print(b_divisor)\n",
    "b = b_dividiendo / b_divisor\n",
    "print('El valor de B para los pares es ', b)\n"
   ]
  },
  {
   "cell_type": "code",
   "execution_count": 65,
   "metadata": {},
   "outputs": [],
   "source": [
    ""
   ]
  },
  {
   "cell_type": "code",
   "execution_count": null,
   "metadata": {},
   "outputs": [],
   "source": []
  }
 ],
 "metadata": {
  "kernelspec": {
   "display_name": "Python 2",
   "language": "python",
   "name": "python2"
  },
  "language_info": {
   "codemirror_mode": {
    "name": "ipython",
    "version": 2
   },
   "file_extension": ".py",
   "mimetype": "text/x-python",
   "name": "python",
   "nbconvert_exporter": "python",
   "pygments_lexer": "ipython2",
   "version": "2.7.6"
  }
 },
 "nbformat": 4,
 "nbformat_minor": 0
}
